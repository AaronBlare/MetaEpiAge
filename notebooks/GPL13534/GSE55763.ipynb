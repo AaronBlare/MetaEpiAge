{
 "cells": [
  {
   "cell_type": "code",
   "execution_count": 1,
   "id": "9a3fe634d53eb9bd",
   "metadata": {
    "collapsed": true,
    "ExecuteTime": {
     "end_time": "2023-11-08T14:04:27.663145700Z",
     "start_time": "2023-11-08T14:04:27.235859800Z"
    }
   },
   "outputs": [],
   "source": [
    "import pandas as pd"
   ]
  },
  {
   "cell_type": "code",
   "execution_count": 2,
   "outputs": [],
   "source": [
    "dataset = \"GSE55763\"\n",
    "path_data = \"D:/YandexDisk/Work/pydnameth/datasets/GPL13534/GSE55763/raw\"\n",
    "df = pd.read_csv(f\"{path_data}/GSE55763_normalized_betas.txt\", delimiter=\"\\t\")"
   ],
   "metadata": {
    "collapsed": false,
    "ExecuteTime": {
     "end_time": "2023-11-08T14:09:36.435371900Z",
     "start_time": "2023-11-08T14:04:31.192120400Z"
    }
   },
   "id": "initial_id"
  },
  {
   "cell_type": "code",
   "execution_count": 4,
   "outputs": [],
   "source": [
    "df.set_index('ID_REF', inplace=True, verify_integrity=True)\n",
    "betas = df.iloc[:, 0::2]\n",
    "betas.to_pickle(f\"{path_data}/betas.pkl\")"
   ],
   "metadata": {
    "collapsed": false,
    "ExecuteTime": {
     "end_time": "2023-11-08T14:13:56.769755900Z",
     "start_time": "2023-11-08T14:13:29.666875600Z"
    }
   },
   "id": "7bb1ca53c872ddbc"
  }
 ],
 "metadata": {
  "kernelspec": {
   "display_name": "Python 3",
   "language": "python",
   "name": "python3"
  },
  "language_info": {
   "codemirror_mode": {
    "name": "ipython",
    "version": 2
   },
   "file_extension": ".py",
   "mimetype": "text/x-python",
   "name": "python",
   "nbconvert_exporter": "python",
   "pygments_lexer": "ipython2",
   "version": "2.7.6"
  }
 },
 "nbformat": 4,
 "nbformat_minor": 5
}
