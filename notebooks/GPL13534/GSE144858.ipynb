{
 "cells": [
  {
   "cell_type": "code",
   "execution_count": 1,
   "id": "9a3fe634d53eb9bd",
   "metadata": {
    "collapsed": true,
    "ExecuteTime": {
     "end_time": "2023-11-18T03:23:59.358293600Z",
     "start_time": "2023-11-18T03:23:59.044202700Z"
    }
   },
   "outputs": [],
   "source": [
    "import pandas as pd\n",
    "from src.routines.download_from_GEO import download_betas_and_pvals_from_gsms"
   ]
  },
  {
   "cell_type": "code",
   "execution_count": 4,
   "outputs": [],
   "source": [
    "dataset = \"GSE144858\"\n",
    "path_data = f\"D:/YandexDisk/Work/pydnameth/datasets/GPL13534/{dataset}\"\n",
    "df_pheno = pd.read_excel(f\"{path_data}/raw/controls.xlsx\", index_col=0)"
   ],
   "metadata": {
    "collapsed": false,
    "ExecuteTime": {
     "end_time": "2023-11-18T03:27:08.606475500Z",
     "start_time": "2023-11-18T03:27:08.563604300Z"
    }
   },
   "id": "initial_id"
  },
  {
   "cell_type": "code",
   "execution_count": 5,
   "outputs": [
    {
     "name": "stderr",
     "output_type": "stream",
     "text": [
      "96it [00:46,  2.06it/s]\n"
     ]
    },
    {
     "name": "stdout",
     "output_type": "stream",
     "text": [
      "Number of NaNs in betas: 0\n",
      "Number of NaNs in pvals: 0\n"
     ]
    }
   ],
   "source": [
    "df_betas, df_pvals = download_betas_and_pvals_from_gsms(df_pheno.index.values, f\"{path_data}/raw\")"
   ],
   "metadata": {
    "collapsed": false,
    "ExecuteTime": {
     "end_time": "2023-11-18T03:27:58.241474300Z",
     "start_time": "2023-11-18T03:27:11.117526600Z"
    }
   },
   "id": "8dcf2ff4992eb66e"
  },
  {
   "cell_type": "code",
   "execution_count": 6,
   "outputs": [],
   "source": [
    "df_betas = df_betas.T"
   ],
   "metadata": {
    "collapsed": false,
    "ExecuteTime": {
     "end_time": "2023-11-18T03:28:07.791837200Z",
     "start_time": "2023-11-18T03:28:07.786707100Z"
    }
   },
   "id": "2a197b9cb7468f20"
  },
  {
   "cell_type": "code",
   "execution_count": 7,
   "outputs": [],
   "source": [
    "df_betas.to_pickle(f\"{path_data}/betas.pkl\")"
   ],
   "metadata": {
    "collapsed": false,
    "ExecuteTime": {
     "end_time": "2023-11-18T03:28:13.767506200Z",
     "start_time": "2023-11-18T03:28:12.986940100Z"
    }
   },
   "id": "ad5010f8ce226a4"
  }
 ],
 "metadata": {
  "kernelspec": {
   "display_name": "Python 3",
   "language": "python",
   "name": "python3"
  },
  "language_info": {
   "codemirror_mode": {
    "name": "ipython",
    "version": 2
   },
   "file_extension": ".py",
   "mimetype": "text/x-python",
   "name": "python",
   "nbconvert_exporter": "python",
   "pygments_lexer": "ipython2",
   "version": "2.7.6"
  }
 },
 "nbformat": 4,
 "nbformat_minor": 5
}
