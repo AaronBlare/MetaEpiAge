{
 "cells": [
  {
   "cell_type": "code",
   "execution_count": null,
   "id": "9a3fe634d53eb9bd",
   "metadata": {
    "collapsed": true
   },
   "outputs": [],
   "source": [
    "import numpy as np\n",
    "import pandas as pd"
   ]
  },
  {
   "cell_type": "code",
   "execution_count": null,
   "outputs": [],
   "source": [
    "dataset = \"GSE137688\"\n",
    "path_data = f\"D:/YandexDisk/Work/pydnameth/datasets/GPL13534/{dataset}\"\n",
    "df_pheno = pd.read_excel(f\"{path_data}/raw/controls.xlsx\", index_col=0)\n",
    "df_betas = pd.read_csv(f\"{path_data}/raw/GSE137688_AverageBeta_MavanMoms.csv\", delimiter=\",\", index_col=0)"
   ],
   "metadata": {
    "collapsed": false
   },
   "id": "initial_id"
  },
  {
   "cell_type": "code",
   "execution_count": null,
   "outputs": [],
   "source": [
    "df_betas.index = \"X\" + df_betas.index"
   ],
   "metadata": {
    "collapsed": false
   },
   "id": "9c406e805f9b5f09"
  },
  {
   "cell_type": "code",
   "execution_count": null,
   "outputs": [],
   "source": [
    "df_betas = df_betas.T"
   ],
   "metadata": {
    "collapsed": false
   },
   "id": "f350893a7d39963e"
  },
  {
   "cell_type": "code",
   "outputs": [],
   "source": [
    "df_betas.dropna(axis=0, how='any', inplace=True)"
   ],
   "metadata": {
    "collapsed": false
   },
   "id": "5a511dffe3f84b74",
   "execution_count": null
  },
  {
   "cell_type": "code",
   "outputs": [],
   "source": [
    "min_val = np.min(df_betas.values[np.nonzero(df_betas.values)])"
   ],
   "metadata": {
    "collapsed": false
   },
   "id": "904ec75ab0d43ab0",
   "execution_count": null
  },
  {
   "cell_type": "code",
   "outputs": [],
   "source": [
    "max_val = np.max(df_betas.values[df_betas.values < 1.0])"
   ],
   "metadata": {
    "collapsed": false
   },
   "id": "fcbffda97e65c878",
   "execution_count": null
  },
  {
   "cell_type": "code",
   "outputs": [],
   "source": [
    "df_betas.replace({0.0: min_val}, inplace=True)"
   ],
   "metadata": {
    "collapsed": false
   },
   "id": "d657f402f4a5d1c1",
   "execution_count": null
  },
  {
   "cell_type": "code",
   "outputs": [],
   "source": [
    "df_betas.replace({1.0: max_val}, inplace=True)"
   ],
   "metadata": {
    "collapsed": false
   },
   "id": "d0a235e1c2a454b",
   "execution_count": null
  },
  {
   "cell_type": "code",
   "outputs": [],
   "source": [
    "min_val_new = np.min(df_betas.values)\n",
    "max_val_new = np.max(df_betas.values)"
   ],
   "metadata": {
    "collapsed": false
   },
   "id": "94881fc83018adee",
   "execution_count": null
  },
  {
   "cell_type": "code",
   "execution_count": null,
   "outputs": [],
   "source": [
    "df_betas.to_pickle(f\"{path_data}/betas.pkl\")"
   ],
   "metadata": {
    "collapsed": false
   },
   "id": "d2fd4fa7f474671b"
  }
 ],
 "metadata": {
  "kernelspec": {
   "display_name": "Python 3",
   "language": "python",
   "name": "python3"
  },
  "language_info": {
   "codemirror_mode": {
    "name": "ipython",
    "version": 2
   },
   "file_extension": ".py",
   "mimetype": "text/x-python",
   "name": "python",
   "nbconvert_exporter": "python",
   "pygments_lexer": "ipython2",
   "version": "2.7.6"
  }
 },
 "nbformat": 4,
 "nbformat_minor": 5
}
