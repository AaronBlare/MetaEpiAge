{
 "cells": [
  {
   "cell_type": "code",
   "execution_count": 1,
   "id": "9a3fe634d53eb9bd",
   "metadata": {
    "collapsed": true,
    "ExecuteTime": {
     "end_time": "2024-02-10T03:33:37.427544900Z",
     "start_time": "2024-02-10T03:33:37.421413600Z"
    }
   },
   "outputs": [],
   "source": [
    "import numpy as np\n",
    "import pandas as pd"
   ]
  },
  {
   "cell_type": "code",
   "execution_count": 7,
   "outputs": [],
   "source": [
    "dataset = \"GSE137688\"\n",
    "path_data = f\"D:/YandexDisk/Work/pydnameth/datasets/GPL13534/{dataset}\"\n",
    "df_pheno = pd.read_excel(f\"{path_data}/raw/controls.xlsx\", index_col=0)\n",
    "df_betas = pd.read_csv(f\"{path_data}/raw/GSE137688_AverageBeta_MavanMoms.csv\", delimiter=\",\", index_col=0)"
   ],
   "metadata": {
    "collapsed": false,
    "ExecuteTime": {
     "end_time": "2024-02-10T04:04:38.276462Z",
     "start_time": "2024-02-10T03:51:30.637647400Z"
    }
   },
   "id": "initial_id"
  },
  {
   "cell_type": "code",
   "execution_count": 8,
   "outputs": [],
   "source": [
    "df_betas.index = \"X\" + df_betas.index"
   ],
   "metadata": {
    "collapsed": false,
    "ExecuteTime": {
     "end_time": "2024-02-10T04:04:42.921594900Z",
     "start_time": "2024-02-10T04:04:42.913091600Z"
    }
   },
   "id": "9c406e805f9b5f09"
  },
  {
   "cell_type": "code",
   "execution_count": 9,
   "outputs": [],
   "source": [
    "df_betas = df_betas.T"
   ],
   "metadata": {
    "collapsed": false,
    "ExecuteTime": {
     "end_time": "2024-02-10T04:04:55.280585900Z",
     "start_time": "2024-02-10T04:04:55.264556800Z"
    }
   },
   "id": "f350893a7d39963e"
  },
  {
   "cell_type": "code",
   "outputs": [],
   "source": [
    "df_betas.dropna(axis=0, how='any', inplace=True)"
   ],
   "metadata": {
    "collapsed": false,
    "ExecuteTime": {
     "end_time": "2024-02-10T04:05:41.088013Z",
     "start_time": "2024-02-10T04:05:40.722089Z"
    }
   },
   "id": "5a511dffe3f84b74",
   "execution_count": 11
  },
  {
   "cell_type": "code",
   "outputs": [],
   "source": [
    "min_val = np.min(df_betas.values[np.nonzero(df_betas.values)])"
   ],
   "metadata": {
    "collapsed": false,
    "ExecuteTime": {
     "end_time": "2024-02-10T04:05:46.344947400Z",
     "start_time": "2024-02-10T04:05:44.829724300Z"
    }
   },
   "id": "904ec75ab0d43ab0",
   "execution_count": 12
  },
  {
   "cell_type": "code",
   "outputs": [],
   "source": [
    "max_val = np.max(df_betas.values[df_betas.values < 1.0])"
   ],
   "metadata": {
    "collapsed": false,
    "ExecuteTime": {
     "end_time": "2024-02-10T04:05:53.994666300Z",
     "start_time": "2024-02-10T04:05:53.555106200Z"
    }
   },
   "id": "fcbffda97e65c878",
   "execution_count": 13
  },
  {
   "cell_type": "code",
   "outputs": [],
   "source": [
    "df_betas.replace({0.0: min_val}, inplace=True)"
   ],
   "metadata": {
    "collapsed": false,
    "ExecuteTime": {
     "end_time": "2024-02-10T04:06:09.202648100Z",
     "start_time": "2024-02-10T04:06:07.548686200Z"
    }
   },
   "id": "d657f402f4a5d1c1",
   "execution_count": 14
  },
  {
   "cell_type": "code",
   "outputs": [],
   "source": [
    "df_betas.replace({1.0: max_val}, inplace=True)"
   ],
   "metadata": {
    "collapsed": false,
    "ExecuteTime": {
     "end_time": "2024-02-10T04:06:12.446321600Z",
     "start_time": "2024-02-10T04:06:10.687013200Z"
    }
   },
   "id": "d0a235e1c2a454b",
   "execution_count": 15
  },
  {
   "cell_type": "code",
   "outputs": [],
   "source": [
    "min_val_new = np.min(df_betas.values)\n",
    "max_val_new = np.max(df_betas.values)"
   ],
   "metadata": {
    "collapsed": false,
    "ExecuteTime": {
     "end_time": "2024-02-10T04:06:58.187471200Z",
     "start_time": "2024-02-10T04:06:58.057645800Z"
    }
   },
   "id": "94881fc83018adee",
   "execution_count": 17
  },
  {
   "cell_type": "code",
   "execution_count": 18,
   "outputs": [],
   "source": [
    "df_betas.to_pickle(f\"{path_data}/betas.pkl\")"
   ],
   "metadata": {
    "collapsed": false,
    "ExecuteTime": {
     "end_time": "2024-02-10T04:07:04.803091100Z",
     "start_time": "2024-02-10T04:07:02.497315500Z"
    }
   },
   "id": "d2fd4fa7f474671b"
  }
 ],
 "metadata": {
  "kernelspec": {
   "display_name": "Python 3",
   "language": "python",
   "name": "python3"
  },
  "language_info": {
   "codemirror_mode": {
    "name": "ipython",
    "version": 2
   },
   "file_extension": ".py",
   "mimetype": "text/x-python",
   "name": "python",
   "nbconvert_exporter": "python",
   "pygments_lexer": "ipython2",
   "version": "2.7.6"
  }
 },
 "nbformat": 4,
 "nbformat_minor": 5
}
