{
 "cells": [
  {
   "cell_type": "code",
   "execution_count": null,
   "id": "9a3fe634d53eb9bd",
   "metadata": {
    "collapsed": true
   },
   "outputs": [],
   "source": [
    "import pandas as pd"
   ]
  },
  {
   "cell_type": "code",
   "execution_count": null,
   "outputs": [],
   "source": [
    "dataset = \"GSE68194\"\n",
    "path_data = f\"D:/YandexDisk/Work/pydnameth/datasets/GPL13534/{dataset}\"\n",
    "df_pheno = pd.read_excel(f\"{path_data}/raw/controls.xlsx\", index_col=0)"
   ],
   "metadata": {
    "collapsed": false
   },
   "id": "initial_id"
  },
  {
   "cell_type": "code",
   "outputs": [],
   "source": [
    "df_data = pd.read_csv(f\"{path_data}/raw/GSE68194_signal_intensities.txt\", index_col=0, delimiter=\"\\t\", skipfooter=1)"
   ],
   "metadata": {
    "collapsed": false
   },
   "id": "265ffe53a3761426",
   "execution_count": null
  },
  {
   "cell_type": "code",
   "outputs": [],
   "source": [
    "df_unmeth = df_data.iloc[:, 0::3]\n",
    "df_meth = df_data.iloc[:, 1::3]"
   ],
   "metadata": {
    "collapsed": false
   },
   "id": "7e11e1ee3f53ae66",
   "execution_count": null
  },
  {
   "cell_type": "code",
   "outputs": [],
   "source": [
    "df_unmeth.columns = df_unmeth.columns.str.replace('_UnMethylated_Signal', '')\n",
    "df_unmeth.columns = df_unmeth.columns.str.replace('SAMPLE_', 'sample')"
   ],
   "metadata": {
    "collapsed": false
   },
   "id": "887bbba5548af724",
   "execution_count": null
  },
  {
   "cell_type": "code",
   "outputs": [],
   "source": [
    "df_meth.columns = df_meth.columns.str.replace('_Methylated_Signal', '')\n",
    "df_meth.columns = df_meth.columns.str.replace('SAMPLE_', 'sample')"
   ],
   "metadata": {
    "collapsed": false
   },
   "id": "72357e118c709239",
   "execution_count": null
  },
  {
   "cell_type": "code",
   "execution_count": null,
   "outputs": [],
   "source": [
    "df_pheno['title'] = df_pheno['title'].str.replace('PBMC_', '')"
   ],
   "metadata": {
    "collapsed": false
   },
   "id": "8dcf2ff4992eb66e"
  },
  {
   "cell_type": "code",
   "outputs": [],
   "source": [
    "df_meth = df_meth.loc[:, df_pheno['title'].values]"
   ],
   "metadata": {
    "collapsed": false
   },
   "id": "f140d94a87b83604",
   "execution_count": null
  },
  {
   "cell_type": "code",
   "outputs": [],
   "source": [
    "df_unmeth = df_unmeth.loc[:, df_pheno['title'].values]"
   ],
   "metadata": {
    "collapsed": false
   },
   "id": "58c75ff518c1dba",
   "execution_count": null
  },
  {
   "cell_type": "code",
   "outputs": [],
   "source": [
    "df_betas = df_meth / (df_meth + df_unmeth + 100)"
   ],
   "metadata": {
    "collapsed": false
   },
   "id": "f0a13716943b2304",
   "execution_count": null
  },
  {
   "cell_type": "code",
   "outputs": [],
   "source": [
    "df_betas = df_betas[~df_betas.index.duplicated(keep=False)]"
   ],
   "metadata": {
    "collapsed": false
   },
   "id": "5788abeb6a19e756",
   "execution_count": null
  },
  {
   "cell_type": "code",
   "execution_count": null,
   "outputs": [],
   "source": [
    "df_betas.to_pickle(f\"{path_data}/betas.pkl\")"
   ],
   "metadata": {
    "collapsed": false
   },
   "id": "ad5010f8ce226a4"
  },
  {
   "cell_type": "code",
   "outputs": [],
   "source": [
    "df_pheno.to_pickle(f\"{path_data}/controls.pkl\")"
   ],
   "metadata": {
    "collapsed": false
   },
   "id": "11995dbb92802820",
   "execution_count": null
  }
 ],
 "metadata": {
  "kernelspec": {
   "display_name": "Python 3",
   "language": "python",
   "name": "python3"
  },
  "language_info": {
   "codemirror_mode": {
    "name": "ipython",
    "version": 2
   },
   "file_extension": ".py",
   "mimetype": "text/x-python",
   "name": "python",
   "nbconvert_exporter": "python",
   "pygments_lexer": "ipython2",
   "version": "2.7.6"
  }
 },
 "nbformat": 4,
 "nbformat_minor": 5
}
