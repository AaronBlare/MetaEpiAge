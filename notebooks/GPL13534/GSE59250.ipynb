{
 "cells": [
  {
   "cell_type": "code",
   "execution_count": null,
   "id": "9a3fe634d53eb9bd",
   "metadata": {
    "collapsed": true
   },
   "outputs": [],
   "source": [
    "import pandas as pd"
   ]
  },
  {
   "cell_type": "code",
   "execution_count": null,
   "outputs": [],
   "source": [
    "dataset = \"GSE59250\"\n",
    "path_data = f\"D:/YandexDisk/Work/pydnameth/datasets/GPL13534/{dataset}\"\n",
    "df_main = pd.read_excel(f\"{path_data}/controls.xlsx\", index_col=0)\n",
    "df_supp = pd.read_excel(f\"{path_data}/supp_table_2.xlsx\", index_col=0)\n",
    "df_supp.index = df_supp.index.map(str)\n"
   ],
   "metadata": {
    "collapsed": false
   },
   "id": "initial_id"
  },
  {
   "cell_type": "code",
   "execution_count": null,
   "outputs": [],
   "source": [
    "df_main['samples'] = df_main['title'].str.split('.', expand=True)[0].str.replace('X', '').map(str)\n",
    "samples_controls = set(df_main['samples'])\n",
    "for sample, row in df_supp.iterrows():\n",
    "    if sample in samples_controls:\n",
    "        df_main.loc[df_main['samples'] == sample, 'Age'] = row['Age']\n",
    "        df_main.loc[df_main['samples'] == sample, 'Sex'] = row['Sex']\n",
    "        df_main.loc[df_main['samples'] == sample, 'Ethnicity'] = row['Ethnicity']"
   ],
   "metadata": {
    "collapsed": false
   },
   "id": "7bb1ca53c872ddbc"
  },
  {
   "cell_type": "code",
   "execution_count": null,
   "outputs": [],
   "source": [
    "df_main.to_excel(f\"{path_data}/controls1.xlsx\", index_label='index')"
   ],
   "metadata": {
    "collapsed": false
   },
   "id": "775490b0f0f6bdfe"
  }
 ],
 "metadata": {
  "kernelspec": {
   "display_name": "Python 3",
   "language": "python",
   "name": "python3"
  },
  "language_info": {
   "codemirror_mode": {
    "name": "ipython",
    "version": 2
   },
   "file_extension": ".py",
   "mimetype": "text/x-python",
   "name": "python",
   "nbconvert_exporter": "python",
   "pygments_lexer": "ipython2",
   "version": "2.7.6"
  }
 },
 "nbformat": 4,
 "nbformat_minor": 5
}
