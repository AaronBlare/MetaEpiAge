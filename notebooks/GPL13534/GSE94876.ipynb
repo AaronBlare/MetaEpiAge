{
 "cells": [
  {
   "cell_type": "code",
   "execution_count": 1,
   "id": "9a3fe634d53eb9bd",
   "metadata": {
    "collapsed": true,
    "ExecuteTime": {
     "end_time": "2023-12-25T08:18:18.565246400Z",
     "start_time": "2023-12-25T08:18:18.205958200Z"
    }
   },
   "outputs": [],
   "source": [
    "import pandas as pd\n",
    "from src.routines.download_from_GEO import download_betas_and_pvals_from_gsms"
   ]
  },
  {
   "cell_type": "code",
   "execution_count": 3,
   "outputs": [],
   "source": [
    "dataset = \"GSE94876\"\n",
    "path_data = f\"D:/YandexDisk/Work/pydnameth/datasets/GPL13534/{dataset}\"\n",
    "df_pheno = pd.read_excel(f\"{path_data}/raw/controls.xlsx\", index_col=0)"
   ],
   "metadata": {
    "collapsed": false,
    "ExecuteTime": {
     "end_time": "2023-12-25T08:20:04.493034Z",
     "start_time": "2023-12-25T08:20:04.285252300Z"
    }
   },
   "id": "initial_id"
  },
  {
   "cell_type": "code",
   "execution_count": 4,
   "outputs": [
    {
     "name": "stderr",
     "output_type": "stream",
     "text": [
      "40it [03:06,  4.66s/it]\n"
     ]
    },
    {
     "name": "stdout",
     "output_type": "stream",
     "text": [
      "Number of NaNs in betas: 13778\n",
      "Number of NaNs in pvals: 0\n"
     ]
    }
   ],
   "source": [
    "df_betas, df_pvals = download_betas_and_pvals_from_gsms(df_pheno.index.values, f\"{path_data}/raw\")"
   ],
   "metadata": {
    "collapsed": false,
    "ExecuteTime": {
     "end_time": "2023-12-25T08:23:31.335020100Z",
     "start_time": "2023-12-25T08:20:24.624660800Z"
    }
   },
   "id": "8dcf2ff4992eb66e"
  },
  {
   "cell_type": "code",
   "execution_count": 5,
   "outputs": [],
   "source": [
    "df_betas = df_betas.T"
   ],
   "metadata": {
    "collapsed": false,
    "ExecuteTime": {
     "end_time": "2023-12-25T08:27:50.139443100Z",
     "start_time": "2023-12-25T08:27:50.101903300Z"
    }
   },
   "id": "2a197b9cb7468f20"
  },
  {
   "cell_type": "code",
   "execution_count": 6,
   "outputs": [],
   "source": [
    "df_betas.to_pickle(f\"{path_data}/raw/betas.pkl\")"
   ],
   "metadata": {
    "collapsed": false,
    "ExecuteTime": {
     "end_time": "2023-12-25T08:28:02.923232300Z",
     "start_time": "2023-12-25T08:28:02.500404Z"
    }
   },
   "id": "ad5010f8ce226a4"
  }
 ],
 "metadata": {
  "kernelspec": {
   "display_name": "Python 3",
   "language": "python",
   "name": "python3"
  },
  "language_info": {
   "codemirror_mode": {
    "name": "ipython",
    "version": 2
   },
   "file_extension": ".py",
   "mimetype": "text/x-python",
   "name": "python",
   "nbconvert_exporter": "python",
   "pygments_lexer": "ipython2",
   "version": "2.7.6"
  }
 },
 "nbformat": 4,
 "nbformat_minor": 5
}
