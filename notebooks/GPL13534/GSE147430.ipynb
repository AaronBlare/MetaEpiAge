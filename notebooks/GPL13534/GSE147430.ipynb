{
 "cells": [
  {
   "cell_type": "code",
   "execution_count": null,
   "id": "9a3fe634d53eb9bd",
   "metadata": {
    "collapsed": true
   },
   "outputs": [],
   "source": [
    "import pandas as pd"
   ]
  },
  {
   "cell_type": "code",
   "execution_count": 29,
   "outputs": [],
   "source": [
    "dataset = \"GSE147430\"\n",
    "path_data = f\"D:/YandexDisk/Work/pydnameth/datasets/GPL13534/{dataset}\"\n",
    "df_main = pd.read_excel(f\"{path_data}/pheno.xlsx\", index_col=0)\n",
    "df_main['gsm'] = df_main.index.values\n",
    "df_supp = pd.read_excel(f\"{path_data}/supp_table_1.xlsx\", index_col=0)\n",
    "df_supp.index = df_supp.index.map(str)\n",
    "df_main['source_name_ch1'] = df_main['source_name_ch1'].str.replace('_CD8T', '')\n",
    "df_main.set_index('source_name_ch1', inplace=True)\n",
    "ids_common = df_main.index.intersection(df_supp.index).values\n",
    "\n",
    "cols = ['Race', 'Sex', 'Age', 'BMI', 'Smoking Status', 'Cotinine (ng/ml)', 'Cigarettes per day', 'Yrs Smoking']"
   ],
   "metadata": {
    "collapsed": false,
    "ExecuteTime": {
     "end_time": "2023-12-25T00:16:48.417455500Z",
     "start_time": "2023-12-25T00:16:48.348396200Z"
    }
   },
   "id": "initial_id"
  },
  {
   "cell_type": "code",
   "outputs": [],
   "source": [
    "ids_main_dupl = df_main.index.values[df_main.index.duplicated(keep=False)]\n",
    "ids_supp_dupl = df_supp.index.values[df_supp.index.duplicated(keep=False)]"
   ],
   "metadata": {
    "collapsed": false,
    "ExecuteTime": {
     "end_time": "2023-12-25T00:16:51.457843800Z",
     "start_time": "2023-12-25T00:16:51.453335500Z"
    }
   },
   "id": "8a7c17d449b5453b",
   "execution_count": 30
  },
  {
   "cell_type": "code",
   "outputs": [],
   "source": [
    "for col in cols:\n",
    "    df_main.loc[ids_common, col] = df_supp.loc[ids_common, col]"
   ],
   "metadata": {
    "collapsed": false,
    "ExecuteTime": {
     "end_time": "2023-12-25T00:16:53.314481100Z",
     "start_time": "2023-12-25T00:16:53.297957800Z"
    }
   },
   "id": "582b3c2dac6a0a47",
   "execution_count": 31
  },
  {
   "cell_type": "code",
   "execution_count": 32,
   "outputs": [],
   "source": [
    "df_main['samples_codes'] = df_main.index.values\n",
    "df_main.set_index('gsm', inplace=True)\n",
    "df_main.to_excel(f\"{path_data}/pheno1.xlsx\", index_label='gsm')"
   ],
   "metadata": {
    "collapsed": false,
    "ExecuteTime": {
     "end_time": "2023-12-25T00:16:54.859231800Z",
     "start_time": "2023-12-25T00:16:54.793314600Z"
    }
   },
   "id": "775490b0f0f6bdfe"
  }
 ],
 "metadata": {
  "kernelspec": {
   "display_name": "Python 3",
   "language": "python",
   "name": "python3"
  },
  "language_info": {
   "codemirror_mode": {
    "name": "ipython",
    "version": 2
   },
   "file_extension": ".py",
   "mimetype": "text/x-python",
   "name": "python",
   "nbconvert_exporter": "python",
   "pygments_lexer": "ipython2",
   "version": "2.7.6"
  }
 },
 "nbformat": 4,
 "nbformat_minor": 5
}
