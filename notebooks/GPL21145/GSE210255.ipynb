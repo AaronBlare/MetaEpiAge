{
 "cells": [
  {
   "cell_type": "code",
   "execution_count": 6,
   "id": "9a3fe634d53eb9bd",
   "metadata": {
    "collapsed": true,
    "ExecuteTime": {
     "end_time": "2023-11-13T09:39:31.451392300Z",
     "start_time": "2023-11-13T09:39:30.940349100Z"
    }
   },
   "outputs": [],
   "source": [
    "import pandas as pd"
   ]
  },
  {
   "cell_type": "code",
   "execution_count": 9,
   "outputs": [],
   "source": [
    "dataset = \"GSE210255\"\n",
    "path_data = \"D:/YandexDisk/Work/pydnameth/datasets/GPL21145/GSE210255/raw\"\n",
    "df = pd.read_csv(f\"{path_data}/GSE210255_Beta_value_EPIC.txt\", delimiter=\" \")"
   ],
   "metadata": {
    "collapsed": false,
    "ExecuteTime": {
     "end_time": "2023-11-13T09:52:20.384690400Z",
     "start_time": "2023-11-13T09:49:49.619699600Z"
    }
   },
   "id": "initial_id"
  },
  {
   "cell_type": "code",
   "execution_count": 10,
   "outputs": [],
   "source": [
    "df.set_index('CpGnames', inplace=True, verify_integrity=True)\n",
    "df.to_pickle(f\"{path_data}/betas.pkl\")"
   ],
   "metadata": {
    "collapsed": false,
    "ExecuteTime": {
     "end_time": "2023-11-13T09:55:14.233204800Z",
     "start_time": "2023-11-13T09:54:51.664716300Z"
    }
   },
   "id": "7bb1ca53c872ddbc"
  },
  {
   "cell_type": "code",
   "execution_count": 6,
   "outputs": [],
   "source": [
    "import gzip\n",
    "import shutil\n",
    "with gzip.open(\"C:/Users/user/Downloads/GSE72773_datBetaNormalized.csv.gz\", 'rb') as f_in:\n",
    "    with open(\"C:/Users/user/Downloads/GSE72773_datBetaNormalized.csv\", 'wb') as f_out:\n",
    "        shutil.copyfileobj(f_in, f_out)"
   ],
   "metadata": {
    "collapsed": false,
    "ExecuteTime": {
     "end_time": "2023-11-18T01:48:32.155129700Z",
     "start_time": "2023-11-18T01:48:20.155757Z"
    }
   },
   "id": "55a6ba80b943a65b"
  },
  {
   "cell_type": "code",
   "execution_count": 6,
   "outputs": [],
   "source": [
    "from glob import glob\n",
    "import gzip\n",
    "import shutil\n",
    "\n",
    "files = glob(f\"C:/Users/user/Downloads/GSE185061_RAW/*.gz\")\n",
    "for f in files:\n",
    "    f_unpacked = f[0:-3]\n",
    "    with gzip.open(f, 'rb') as f_in:\n",
    "        with open(f_unpacked, 'wb') as f_out:\n",
    "            shutil.copyfileobj(f_in, f_out)"
   ],
   "metadata": {
    "collapsed": false,
    "ExecuteTime": {
     "end_time": "2023-11-20T22:04:14.386822600Z",
     "start_time": "2023-11-20T22:03:31.290271700Z"
    }
   },
   "id": "7e78f535bf78efb"
  },
  {
   "cell_type": "code",
   "execution_count": 4,
   "outputs": [],
   "source": [
    "import os\n",
    "from os import path\n",
    "import shutil\n",
    "\n",
    "files = glob(\"D:/YandexDisk/Work/pydnameth/datasets/GPL21145/GSE175458/raw/idat/*.idat\")\n",
    "for f in files:\n",
    "    f_new = f.replace(\"_noid_\", \"_\")\n",
    "    os.rename(f, f_new)"
   ],
   "metadata": {
    "collapsed": false,
    "ExecuteTime": {
     "end_time": "2023-11-20T09:35:25.298740700Z",
     "start_time": "2023-11-20T09:35:25.185256900Z"
    }
   },
   "id": "3b63a8efe69a8392"
  }
 ],
 "metadata": {
  "kernelspec": {
   "display_name": "Python 3",
   "language": "python",
   "name": "python3"
  },
  "language_info": {
   "codemirror_mode": {
    "name": "ipython",
    "version": 2
   },
   "file_extension": ".py",
   "mimetype": "text/x-python",
   "name": "python",
   "nbconvert_exporter": "python",
   "pygments_lexer": "ipython2",
   "version": "2.7.6"
  }
 },
 "nbformat": 4,
 "nbformat_minor": 5
}
