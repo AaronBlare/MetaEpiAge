{
 "cells": [
  {
   "cell_type": "code",
   "execution_count": null,
   "id": "9a3fe634d53eb9bd",
   "metadata": {
    "collapsed": true
   },
   "outputs": [],
   "source": [
    "import pandas as pd"
   ]
  },
  {
   "cell_type": "code",
   "execution_count": null,
   "outputs": [],
   "source": [
    "dataset = \"GSE210255\"\n",
    "path_data = \"D:/YandexDisk/Work/pydnameth/datasets/GPL21145/GSE210255/raw\"\n",
    "df = pd.read_csv(f\"{path_data}/GSE210255_Beta_value_EPIC.txt\", delimiter=\" \")"
   ],
   "metadata": {
    "collapsed": false
   },
   "id": "initial_id"
  },
  {
   "cell_type": "code",
   "execution_count": null,
   "outputs": [],
   "source": [
    "df.set_index('CpGnames', inplace=True, verify_integrity=True)\n",
    "df.to_pickle(f\"{path_data}/betas.pkl\")"
   ],
   "metadata": {
    "collapsed": false
   },
   "id": "7bb1ca53c872ddbc"
  },
  {
   "cell_type": "code",
   "execution_count": null,
   "outputs": [],
   "source": [
    "import gzip\n",
    "import shutil\n",
    "with gzip.open(\"C:/Users/user/Downloads/GSE74414_all_beta_values.txt.gz\", 'rb') as f_in:\n",
    "    with open(\"C:/Users/user/Downloads/GSE74414_all_beta_values.txt\", 'wb') as f_out:\n",
    "        shutil.copyfileobj(f_in, f_out)"
   ],
   "metadata": {
    "collapsed": false
   },
   "id": "55a6ba80b943a65b"
  },
  {
   "cell_type": "code",
   "execution_count": null,
   "outputs": [],
   "source": [
    "from glob import glob\n",
    "import gzip\n",
    "import shutil\n",
    "\n",
    "files = glob(f\"C:/Users/user/Downloads/GSE75704_RAW/*.gz\")\n",
    "for f in files:\n",
    "    f_unpacked = f[0:-3]\n",
    "    with gzip.open(f, 'rb') as f_in:\n",
    "        with open(f_unpacked, 'wb') as f_out:\n",
    "            shutil.copyfileobj(f_in, f_out)"
   ],
   "metadata": {
    "collapsed": false
   },
   "id": "7e78f535bf78efb"
  },
  {
   "cell_type": "code",
   "execution_count": null,
   "outputs": [],
   "source": [
    "import os\n",
    "from os import path\n",
    "import shutil\n",
    "\n",
    "files = glob(\"D:/YandexDisk/Work/pydnameth/datasets/GPL21145/GSE175458/raw/idat/*.idat\")\n",
    "for f in files:\n",
    "    f_new = f.replace(\"_noid_\", \"_\")\n",
    "    os.rename(f, f_new)"
   ],
   "metadata": {
    "collapsed": false
   },
   "id": "3b63a8efe69a8392"
  }
 ],
 "metadata": {
  "kernelspec": {
   "display_name": "Python 3",
   "language": "python",
   "name": "python3"
  },
  "language_info": {
   "codemirror_mode": {
    "name": "ipython",
    "version": 2
   },
   "file_extension": ".py",
   "mimetype": "text/x-python",
   "name": "python",
   "nbconvert_exporter": "python",
   "pygments_lexer": "ipython2",
   "version": "2.7.6"
  }
 },
 "nbformat": 4,
 "nbformat_minor": 5
}
