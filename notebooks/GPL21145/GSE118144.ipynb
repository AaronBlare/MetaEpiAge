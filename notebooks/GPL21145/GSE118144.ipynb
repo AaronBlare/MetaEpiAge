{
 "cells": [
  {
   "cell_type": "code",
   "execution_count": 1,
   "id": "9a3fe634d53eb9bd",
   "metadata": {
    "collapsed": true,
    "ExecuteTime": {
     "end_time": "2023-12-18T17:45:08.870025700Z",
     "start_time": "2023-12-18T17:45:08.531695200Z"
    }
   },
   "outputs": [],
   "source": [
    "import pandas as pd"
   ]
  },
  {
   "cell_type": "code",
   "execution_count": 16,
   "outputs": [],
   "source": [
    "dataset = \"GSE118144\"\n",
    "path_data = f\"E:/YandexDisk/pydnameth/datasets/GPL21145/{dataset}\"\n",
    "df_main = pd.read_excel(f\"{path_data}/pheno.xlsx\")\n",
    "df_supp = pd.read_excel(f\"{path_data}/supp_table_1.xlsx\")\n",
    "df_supp.index = df_supp.index.map(str)\n"
   ],
   "metadata": {
    "collapsed": false,
    "ExecuteTime": {
     "end_time": "2023-12-18T18:00:03.696681100Z",
     "start_time": "2023-12-18T18:00:03.603661400Z"
    }
   },
   "id": "initial_id"
  },
  {
   "cell_type": "code",
   "execution_count": 17,
   "outputs": [],
   "source": [
    "df_main['samples'] = df_main['title'].str.split('_', expand=True)[0]\n",
    "for sample, row in df_main.iterrows():\n",
    "    df_main.loc[sample, ['Age']] = df_supp.loc[df_supp['Sample ID'] == row['samples'], 'Age at recruitment'].values[0]"
   ],
   "metadata": {
    "collapsed": false,
    "ExecuteTime": {
     "end_time": "2023-12-18T18:00:04.890530600Z",
     "start_time": "2023-12-18T18:00:04.769313400Z"
    }
   },
   "id": "7bb1ca53c872ddbc"
  },
  {
   "cell_type": "code",
   "execution_count": 19,
   "outputs": [],
   "source": [
    "df_main.to_excel(f\"{path_data}/pheno1.xlsx\", index=False)"
   ],
   "metadata": {
    "collapsed": false,
    "ExecuteTime": {
     "end_time": "2023-12-18T18:00:26.908894900Z",
     "start_time": "2023-12-18T18:00:26.696985800Z"
    }
   },
   "id": "775490b0f0f6bdfe"
  }
 ],
 "metadata": {
  "kernelspec": {
   "display_name": "Python 3",
   "language": "python",
   "name": "python3"
  },
  "language_info": {
   "codemirror_mode": {
    "name": "ipython",
    "version": 2
   },
   "file_extension": ".py",
   "mimetype": "text/x-python",
   "name": "python",
   "nbconvert_exporter": "python",
   "pygments_lexer": "ipython2",
   "version": "2.7.6"
  }
 },
 "nbformat": 4,
 "nbformat_minor": 5
}
