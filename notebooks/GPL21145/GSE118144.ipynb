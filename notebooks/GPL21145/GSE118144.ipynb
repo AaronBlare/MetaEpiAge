{
 "cells": [
  {
   "cell_type": "code",
   "execution_count": null,
   "id": "9a3fe634d53eb9bd",
   "metadata": {
    "collapsed": true
   },
   "outputs": [],
   "source": [
    "import pandas as pd"
   ]
  },
  {
   "cell_type": "code",
   "execution_count": null,
   "outputs": [],
   "source": [
    "dataset = \"GSE118144\"\n",
    "path_data = f\"E:/YandexDisk/pydnameth/datasets/GPL21145/{dataset}\"\n",
    "df_main = pd.read_excel(f\"{path_data}/pheno.xlsx\")\n",
    "df_supp = pd.read_excel(f\"{path_data}/supp_table_1.xlsx\")\n",
    "df_supp.index = df_supp.index.map(str)\n"
   ],
   "metadata": {
    "collapsed": false
   },
   "id": "initial_id"
  },
  {
   "cell_type": "code",
   "execution_count": null,
   "outputs": [],
   "source": [
    "df_main['samples'] = df_main['title'].str.split('_', expand=True)[0]\n",
    "for sample, row in df_main.iterrows():\n",
    "    df_main.loc[sample, ['Age']] = df_supp.loc[df_supp['Sample ID'] == row['samples'], 'Age at recruitment'].values[0]"
   ],
   "metadata": {
    "collapsed": false
   },
   "id": "7bb1ca53c872ddbc"
  },
  {
   "cell_type": "code",
   "execution_count": null,
   "outputs": [],
   "source": [
    "df_main.to_excel(f\"{path_data}/pheno1.xlsx\", index=False)"
   ],
   "metadata": {
    "collapsed": false
   },
   "id": "775490b0f0f6bdfe"
  }
 ],
 "metadata": {
  "kernelspec": {
   "display_name": "Python 3",
   "language": "python",
   "name": "python3"
  },
  "language_info": {
   "codemirror_mode": {
    "name": "ipython",
    "version": 2
   },
   "file_extension": ".py",
   "mimetype": "text/x-python",
   "name": "python",
   "nbconvert_exporter": "python",
   "pygments_lexer": "ipython2",
   "version": "2.7.6"
  }
 },
 "nbformat": 4,
 "nbformat_minor": 5
}
