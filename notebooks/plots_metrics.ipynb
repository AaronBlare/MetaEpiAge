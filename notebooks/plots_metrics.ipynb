{
 "cells": [
  {
   "cell_type": "markdown",
   "source": [
    "# Debugging autoreload"
   ],
   "metadata": {
    "collapsed": false
   }
  },
  {
   "cell_type": "code",
   "execution_count": null,
   "outputs": [],
   "source": [
    "%load_ext autoreload\n",
    "%autoreload 2"
   ],
   "metadata": {
    "collapsed": false
   }
  },
  {
   "cell_type": "markdown",
   "source": [
    "# Load packages"
   ],
   "metadata": {
    "collapsed": false
   }
  },
  {
   "cell_type": "code",
   "execution_count": null,
   "outputs": [],
   "source": [
    "from tqdm import tqdm\n",
    "import pandas as pd\n",
    "import numpy as np\n",
    "import seaborn as sns\n",
    "import plotly.io as pio\n",
    "pio.kaleido.scope.mathjax = None\n",
    "from plotly.offline import init_notebook_mode\n",
    "from matplotlib import patheffects as pe\n",
    "import matplotlib\n",
    "init_notebook_mode(connected=False)\n",
    "import matplotlib.pyplot as plt\n",
    "import pathlib\n",
    "import torch\n",
    "import torchmetrics"
   ],
   "metadata": {
    "collapsed": false
   }
  },
  {
   "cell_type": "markdown",
   "source": [
    "# Load data"
   ],
   "metadata": {
    "collapsed": false
   }
  },
  {
   "cell_type": "code",
   "execution_count": null,
   "outputs": [],
   "source": [
    "path = \"D:/YandexDisk/Work/pydnameth/draft/10_MetaEPIClock/MetaEpiAge\"\n",
    "\n",
    "ages = [\n",
    "    'Hannum',\n",
    "    'PC-Hannum',\n",
    "    'Horvath',\n",
    "    'PC-Horvath',\n",
    "    'SkinBloodAge',\n",
    "    'PC-SkinBloodAge',\n",
    "    'PhenoAge',\n",
    "    'PC-PhenoAge',\n",
    "    'GrimAge',\n",
    "    'PC-GrimAge',\n",
    "    'GrimAge2',\n",
    "]\n",
    "pace = 'DunedinPACE'\n",
    "\n",
    "df_tissues_glob = pd.read_excel(f\"{path}/count_tissues.xlsx\", index_col=0)\n",
    "df_states_glob = pd.read_excel(f\"{path}/count_states.xlsx\", index_col=0)\n",
    "df_groups_glob = pd.read_excel(f\"{path}/count_groups.xlsx\", index_col=0)\n",
    "df_gses_glob = pd.read_excel(f\"{path}/count_gse.xlsx\", index_col=0)\n",
    "df = pd.read_excel(f\"{path}/table.xlsx\", index_col=0)\n",
    "\n",
    "colors_tissues = {\n",
    "    'Blood': 'red',\n",
    "    'Buccal': 'skyblue',\n",
    "    'Brain': 'plum',\n",
    "    'Colon': 'pink',\n",
    "    'Epidermis': 'burlywood',\n",
    "    'Saliva': 'lavender',\n",
    "    'Lung': 'gold',\n",
    "    'Muscle': 'darkorange',\n",
    "    'Breast': 'limegreen',\n",
    "    'Liver': 'brown',\n",
    "}\n",
    "colors_sex = {\n",
    "    'F': 'red',\n",
    "    'M': 'blue'\n",
    "}\n",
    "colors_xkcd = matplotlib.colors.XKCD_COLORS\n",
    "df_colors = pd.read_excel(f\"{path}/colors.xlsx\", index_col=0)\n",
    "colors_global = {}\n",
    "for feat in df_colors.index.values:\n",
    "    colors_global[feat] = colors_xkcd[f\"xkcd:{df_colors.at[feat, 'xkcd']}\"]"
   ],
   "metadata": {
    "collapsed": false
   }
  },
  {
   "cell_type": "markdown",
   "source": [
    "# All tissues plots"
   ],
   "metadata": {
    "collapsed": false
   }
  },
  {
   "cell_type": "markdown",
   "source": [
    "## Metrics clustermaps"
   ],
   "metadata": {
    "collapsed": false
   }
  },
  {
   "cell_type": "code",
   "outputs": [],
   "source": [
    "path_save = f\"{path}/figures/metrics\"\n",
    "pathlib.Path(f\"{path_save}\").mkdir(parents=True, exist_ok=True)\n",
    "\n",
    "tissues = df_tissues_glob.index.values\n",
    "\n",
    "dfs_metrics = {\n",
    "    'Concordance Corr Coef': pd.DataFrame(index=tissues, columns=ages, data=np.zeros(shape=(len(tissues), len(ages)))),\n",
    "    'Explained Variance': pd.DataFrame(index=tissues, columns=ages, data=np.zeros(shape=(len(tissues), len(ages)))),\n",
    "    'Kendall Rank Corr Coef': pd.DataFrame(index=tissues, columns=ages, data=np.zeros(shape=(len(tissues), len(ages)))),\n",
    "    'Mean Absolute Error': pd.DataFrame(index=tissues, columns=ages, data=np.zeros(shape=(len(tissues), len(ages)))),\n",
    "    'Mean Squared Error': pd.DataFrame(index=tissues, columns=ages, data=np.zeros(shape=(len(tissues), len(ages)))),\n",
    "    'Minkowski Distance': pd.DataFrame(index=tissues, columns=ages, data=np.zeros(shape=(len(tissues), len(ages)))),\n",
    "    'Pearson Corr Coef': pd.DataFrame(index=tissues, columns=ages, data=np.zeros(shape=(len(tissues), len(ages)))),\n",
    "    'Relative Squared Error': pd.DataFrame(index=tissues, columns=ages, data=np.zeros(shape=(len(tissues), len(ages)))),\n",
    "    'R2 Score': pd.DataFrame(index=tissues, columns=ages, data=np.zeros(shape=(len(tissues), len(ages)))),\n",
    "    'Spearman Corr Coef': pd.DataFrame(index=tissues, columns=ages, data=np.zeros(shape=(len(tissues), len(ages)))),\n",
    "}\n",
    "\n",
    "for tissue in tissues:\n",
    "    for age_type in tqdm(ages):\n",
    "        y_real = torch.from_numpy(np.float32(df.loc[df['Tissue'] == tissue, age_type].values))\n",
    "        y_pred = torch.from_numpy(np.float32(df.loc[df['Tissue'] == tissue, \"Age\"].values))\n",
    "        \n",
    "        metric = torchmetrics.regression.ConcordanceCorrCoef()\n",
    "        dfs_metrics['Concordance Corr Coef'].at[tissue, age_type] = float(metric(y_pred, y_real).numpy())\n",
    "        \n",
    "        metric = torchmetrics.regression.ExplainedVariance()\n",
    "        dfs_metrics['Explained Variance'].at[tissue, age_type] = float(metric(y_pred, y_real).numpy())\n",
    "        \n",
    "        metric = torchmetrics.regression.KendallRankCorrCoef()\n",
    "        dfs_metrics['Kendall Rank Corr Coef'].at[tissue, age_type] = float(metric(y_pred, y_real).numpy())\n",
    "        \n",
    "        metric = torchmetrics.regression.MeanAbsoluteError()\n",
    "        dfs_metrics['Mean Absolute Error'].at[tissue, age_type] = float(metric(y_pred, y_real).numpy())\n",
    "        \n",
    "        metric = torchmetrics.regression.MeanSquaredError()\n",
    "        dfs_metrics['Mean Squared Error'].at[tissue, age_type] = float(metric(y_pred, y_real).numpy())\n",
    "        \n",
    "        metric = torchmetrics.regression.MinkowskiDistance(p=3)\n",
    "        dfs_metrics['Minkowski Distance'].at[tissue, age_type] = float(metric(y_pred, y_real).numpy())\n",
    "        \n",
    "        metric = torchmetrics.regression.PearsonCorrCoef()\n",
    "        dfs_metrics['Pearson Corr Coef'].at[tissue, age_type] = float(metric(y_pred, y_real).numpy())\n",
    "        \n",
    "        metric = torchmetrics.regression.RelativeSquaredError()\n",
    "        dfs_metrics['Relative Squared Error'].at[tissue, age_type] = float(metric(y_pred, y_real).numpy())\n",
    "        \n",
    "        metric = torchmetrics.regression.R2Score()\n",
    "        dfs_metrics['R2 Score'].at[tissue, age_type] = float(metric(y_pred, y_real).numpy())\n",
    "        \n",
    "        metric = torchmetrics.regression.SpearmanCorrCoef()\n",
    "        dfs_metrics['Spearman Corr Coef'].at[tissue, age_type] = float(metric(y_pred, y_real).numpy())"
   ],
   "metadata": {
    "collapsed": false
   },
   "execution_count": null
  },
  {
   "cell_type": "code",
   "outputs": [],
   "source": [
    "\n",
    "with pd.ExcelWriter(f\"{path_save}/metrics.xlsx\", engine='xlsxwriter') as writer:\n",
    "    for m_name, df_m in dfs_metrics.items():\n",
    "        df_m.to_excel(writer, index_label=\"Tissue\", sheet_name=m_name)"
   ],
   "metadata": {
    "collapsed": false
   },
   "execution_count": null
  },
  {
   "cell_type": "code",
   "outputs": [],
   "source": [
    "colormaps_metrics = {\n",
    "    'Concordance Corr Coef': 'hot',\n",
    "    'Explained Variance': 'hot',\n",
    "    'Kendall Rank Corr Coef': 'hot',\n",
    "    'Mean Absolute Error': 'plasma',\n",
    "    'Mean Squared Error': 'hot',\n",
    "    'Minkowski Distance': 'hot',\n",
    "    'Pearson Corr Coef': 'hot',\n",
    "    'Relative Squared Error': 'hot',\n",
    "    'R2 Score': 'hot',\n",
    "    'Spearman Corr Coef': 'hot',\n",
    "}\n",
    "\n",
    "for m_name, df_m in dfs_metrics.items():\n",
    "    sns.set_theme(style='whitegrid')\n",
    "    if m_name == \"R2 Score\":\n",
    "        cmap = plt.get_cmap(\"autumn\").copy()\n",
    "        cmap.set_under('black')\n",
    "        clustermap = sns.clustermap(\n",
    "            df_m,\n",
    "            annot=True,\n",
    "            col_cluster=True,\n",
    "            row_cluster=True,\n",
    "            fmt=\".2f\",\n",
    "            cmap=cmap,\n",
    "            vmin=0.0,\n",
    "            linewidth=0.1,\n",
    "            linecolor='black',\n",
    "            tree_kws=dict(linewidths=1.5),\n",
    "            figsize=(10, 7),\n",
    "            cbar_kws={'orientation': 'horizontal'}\n",
    "        )\n",
    "    else:\n",
    "        clustermap = sns.clustermap(\n",
    "            df_m,\n",
    "            annot=True,\n",
    "            col_cluster=True,\n",
    "            row_cluster=True,\n",
    "            fmt=\".2f\",\n",
    "            cmap=colormaps_metrics[m_name],\n",
    "            linewidth=0.1,\n",
    "            linecolor='black',\n",
    "            tree_kws=dict(linewidths=1.5),\n",
    "            figsize=(10, 7),\n",
    "            cbar_kws={'orientation': 'horizontal'}\n",
    "        )\n",
    "    clustermap.ax_heatmap.set_xlabel('')\n",
    "    clustermap.ax_heatmap.set_ylabel('')\n",
    "    clustermap.ax_heatmap.set_xticklabels(clustermap.ax_heatmap.get_xmajorticklabels(), fontsize = 18)\n",
    "    clustermap.ax_heatmap.set_yticklabels(clustermap.ax_heatmap.get_ymajorticklabels(), fontsize = 18)\n",
    "    clustermap.ax_cbar.tick_params()\n",
    "    clustermap.ax_heatmap.set_yticklabels(clustermap.ax_heatmap.get_ymajorticklabels(), path_effects=[pe.withStroke(linewidth=0.75, foreground=\"black\")])\n",
    "    for tick_label in clustermap.ax_heatmap.get_yticklabels():\n",
    "        tick_label.set_color(colors_tissues[tick_label.get_text()])\n",
    "    for spine in clustermap.ax_cbar.spines.values():\n",
    "        spine.set(visible=True, lw=0.25, edgecolor=\"black\")\n",
    "    x0, _y0, _w, _h = clustermap.cbar_pos\n",
    "    clustermap_pos = clustermap.ax_col_dendrogram.get_position()\n",
    "    clustermap.ax_cbar.set_position([clustermap_pos.x0, clustermap_pos.y1 + 0.05, clustermap_pos.width, 0.03])\n",
    "    clustermap.ax_cbar.set_title(m_name)\n",
    "    for spine in clustermap.ax_cbar.spines:\n",
    "        clustermap.ax_cbar.spines[spine].set_linewidth(1)\n",
    "    plt.savefig(f\"{path_save}/{m_name}.png\", bbox_inches='tight', dpi=200)\n",
    "    plt.savefig(f\"{path_save}/{m_name}.pdf\", bbox_inches='tight')\n",
    "    plt.close(clustermap.fig)"
   ],
   "metadata": {
    "collapsed": false
   },
   "execution_count": null
  }
 ],
 "metadata": {
  "kernelspec": {
   "name": "python3",
   "language": "python",
   "display_name": "Python 3 (ipykernel)"
  },
  "language_info": {
   "codemirror_mode": {
    "name": "ipython",
    "version": 2
   },
   "file_extension": ".py",
   "mimetype": "text/x-python",
   "name": "python",
   "nbconvert_exporter": "python",
   "pygments_lexer": "ipython2",
   "version": "2.7.6"
  }
 },
 "nbformat": 4,
 "nbformat_minor": 0
}
