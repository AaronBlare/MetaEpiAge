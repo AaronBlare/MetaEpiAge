{
 "cells": [
  {
   "cell_type": "code",
   "execution_count": 5,
   "id": "9a3fe634d53eb9bd",
   "metadata": {
    "collapsed": true,
    "ExecuteTime": {
     "end_time": "2023-11-23T18:16:28.599031100Z",
     "start_time": "2023-11-23T18:16:28.581168200Z"
    }
   },
   "outputs": [],
   "source": [
    "import pandas as pd"
   ]
  },
  {
   "cell_type": "code",
   "execution_count": 8,
   "outputs": [],
   "source": [
    "dataset = \"GSE154566\"\n",
    "path_data = \"D:/YandexDisk/Work/pydnameth/datasets/GPL23976/GSE154566/raw\"\n",
    "df = pd.read_csv(f\"{path_data}/GSE154566_betas_normalised.csv\")"
   ],
   "metadata": {
    "collapsed": false,
    "ExecuteTime": {
     "end_time": "2023-11-23T18:18:01.908651200Z",
     "start_time": "2023-11-23T18:17:20.801099Z"
    }
   },
   "id": "initial_id"
  },
  {
   "cell_type": "code",
   "execution_count": 9,
   "outputs": [],
   "source": [
    "df.set_index('Unnamed: 0', inplace=True, verify_integrity=True)\n",
    "df.to_pickle(f\"{path_data}/betas.pkl\")"
   ],
   "metadata": {
    "collapsed": false,
    "ExecuteTime": {
     "end_time": "2023-11-23T18:19:25.192811300Z",
     "start_time": "2023-11-23T18:19:15.768894300Z"
    }
   },
   "id": "7bb1ca53c872ddbc"
  }
 ],
 "metadata": {
  "kernelspec": {
   "display_name": "Python 3",
   "language": "python",
   "name": "python3"
  },
  "language_info": {
   "codemirror_mode": {
    "name": "ipython",
    "version": 2
   },
   "file_extension": ".py",
   "mimetype": "text/x-python",
   "name": "python",
   "nbconvert_exporter": "python",
   "pygments_lexer": "ipython2",
   "version": "2.7.6"
  }
 },
 "nbformat": 4,
 "nbformat_minor": 5
}
