{
 "cells": [
  {
   "cell_type": "markdown",
   "source": [
    "# Debugging autoreload"
   ],
   "metadata": {
    "collapsed": false
   }
  },
  {
   "cell_type": "code",
   "execution_count": null,
   "outputs": [],
   "source": [
    "%load_ext autoreload\n",
    "%autoreload 2"
   ],
   "metadata": {
    "collapsed": false
   }
  },
  {
   "cell_type": "markdown",
   "source": [
    "# Load packages"
   ],
   "metadata": {
    "collapsed": false
   }
  },
  {
   "cell_type": "code",
   "execution_count": null,
   "outputs": [],
   "source": [
    "import glob\n",
    "import pandas as pd\n",
    "from scipy import stats\n",
    "import seaborn as sns\n",
    "import plotly.io as pio\n",
    "pio.kaleido.scope.mathjax = None\n",
    "from plotly.offline import init_notebook_mode\n",
    "init_notebook_mode(connected=False)\n",
    "import matplotlib.pyplot as plt\n",
    "import pathlib\n",
    "from sklearn.metrics import mean_absolute_error"
   ],
   "metadata": {
    "collapsed": false
   }
  },
  {
   "cell_type": "markdown",
   "source": [
    "# Collect data"
   ],
   "metadata": {
    "collapsed": false
   }
  },
  {
   "cell_type": "code",
   "outputs": [],
   "source": [
    "path_load = \"D:/YandexDisk/Work/pydnameth/draft/10_MetaEPIClock/MetaEpiAge/problems\"\n",
    "gses = ['GSE74193']\n",
    "\n",
    "cols_trgt = [\n",
    "    'geo_accession',\n",
    "    'series_id',\n",
    "    'Age',\n",
    "    'Sex',\n",
    "    'Tissue',\n",
    "]\n",
    "\n",
    "ages_pc = {\n",
    "    'PCHorvath1': 'PC-Horvath',\n",
    "    'PCHorvath2': 'PC-SkinBloodAge',\n",
    "    'PCHannum': 'PC-Hannum',\n",
    "    'PCPhenoAge': 'PC-PhenoAge',\n",
    "    'PCGrimAge': 'PC-GrimAge',\n",
    "}\n",
    "\n",
    "pace = 'DunedinPACE'\n",
    "\n",
    "ages_calc = {\n",
    "    'DNAmAge': 'Horvath',\n",
    "    'DNAmAgeHannum': 'Hannum',\n",
    "    'DNAmPhenoAge': 'PhenoAge',\n",
    "    'DNAmAgeSkinBloodClock': 'SkinBloodAge',\n",
    "    'DNAmGrimAgeBasedOnRealAge': 'GrimAge',\n",
    "    'DNAmGrimAge2BasedOnRealAge': 'GrimAge2',\n",
    "}\n",
    "\n",
    "ages = list(ages_pc.values()) + list(ages_calc.values())\n",
    "\n",
    "dfs = {}\n",
    "for gse in gses:\n",
    "    dfs[gse] = {}\n",
    "    for harm in ['with', 'without']:\n",
    "        df_gse_pheno = pd.read_csv(f\"{path_load}/harm_checking_{gse}/{harm}_harmonization/pheno.csv\", index_col=0)\n",
    "        df_gse_pheno['GSE'] = gse\n",
    "        df_gse_pheno.rename(columns=ages_pc, inplace=True)\n",
    "        fn_gse_horvath_files = glob.glob(f\"{path_load}/harm_checking_{gse}/{harm}_harmonization/DNAmAgeCalcProject_*_Results.csv\")\n",
    "        fn_gse_horvath = fn_gse_horvath_files[0]\n",
    "        df_gse_horvath = pd.read_csv(fn_gse_horvath, index_col=0)\n",
    "        df_gse = df_gse_pheno.loc[:, cols_trgt + list(ages_pc.values()) + [pace, 'GSE']]\n",
    "        for age_col, age_label in ages_calc.items():\n",
    "            df_gse.loc[df_gse.index.values, age_label] = df_gse_horvath.loc[df_gse.index.values, age_col]\n",
    "        \n",
    "        df_gse.set_index('geo_accession', inplace=True)\n",
    "        dfs[gse][harm] = df_gse"
   ],
   "metadata": {
    "collapsed": false
   },
   "execution_count": null
  },
  {
   "cell_type": "markdown",
   "source": [
    "# Setup age distribution plots"
   ],
   "metadata": {
    "collapsed": false
   }
  },
  {
   "cell_type": "code",
   "outputs": [],
   "source": [
    "ages_kde = {\n",
    "    'Hannum': {\n",
    "        'col_id': 0,\n",
    "        'row_id': 0,\n",
    "        'title': 'Hannum',\n",
    "        'y_label': 'Original clocks',\n",
    "        'x_label': ''\n",
    "    },\n",
    "    'Horvath': {\n",
    "        'col_id': 1,\n",
    "        'row_id': 0,\n",
    "        'title': 'Horvath',\n",
    "        'y_label': '',\n",
    "        'x_label': ''\n",
    "    },\n",
    "    'SkinBloodAge': {\n",
    "        'col_id': 2,\n",
    "        'row_id': 0,\n",
    "        'title': 'SkinBloodAge',\n",
    "        'y_label': '',\n",
    "        'x_label': ''\n",
    "    },\n",
    "    'PhenoAge': {\n",
    "        'col_id': 3,\n",
    "        'row_id': 0,\n",
    "        'title': 'PhenoAge',\n",
    "        'y_label': '',\n",
    "        'x_label': ''\n",
    "    },\n",
    "    'GrimAge': {\n",
    "        'col_id': 4,\n",
    "        'row_id': 0,\n",
    "        'title': 'GrimAge',\n",
    "        'y_label': '',\n",
    "        'x_label': ''\n",
    "    },\n",
    "    'GrimAge2': {\n",
    "        'col_id': 5,\n",
    "        'row_id': 0,\n",
    "        'title': 'GrimAge2',\n",
    "        'y_label': '',\n",
    "        'x_label': ''\n",
    "    },\n",
    "    'PC-Hannum': {\n",
    "        'col_id': 0,\n",
    "        'row_id': 1,\n",
    "        'title': '',\n",
    "        'y_label': 'PC clocks',\n",
    "        'x_label': ''\n",
    "    },\n",
    "    'PC-Horvath': {\n",
    "        'col_id': 1,\n",
    "        'row_id': 1,\n",
    "        'title': '',\n",
    "        'y_label': '',\n",
    "        'x_label': ''\n",
    "    },\n",
    "    'PC-SkinBloodAge': {\n",
    "        'col_id': 2,\n",
    "        'row_id': 1,\n",
    "        'title': '',\n",
    "        'y_label': '',\n",
    "        'x_label': ''\n",
    "    },\n",
    "    'PC-PhenoAge': {\n",
    "        'col_id': 3,\n",
    "        'row_id': 1,\n",
    "        'title': '',\n",
    "        'y_label': '',\n",
    "        'x_label': ''\n",
    "    },\n",
    "    'PC-GrimAge': {\n",
    "        'col_id': 4,\n",
    "        'row_id': 1,\n",
    "        'title': '',\n",
    "        'y_label': '',\n",
    "        'x_label': ''\n",
    "    },\n",
    "    'PC-GrimAge2': {\n",
    "        'col_id': 5,\n",
    "        'row_id': 1,\n",
    "        'title': '',\n",
    "        'y_label': '',\n",
    "        'x_label': ''\n",
    "    },\n",
    "}\n",
    "\n",
    "n_rows = 2\n",
    "n_cols = 6\n",
    "fig_width = 15\n",
    "fig_height = 8\n",
    "low_percent = 0.005\n",
    "hgh_percent = 0.995\n",
    "ptp_shift = 0.05  "
   ],
   "metadata": {
    "collapsed": false
   },
   "execution_count": null
  },
  {
   "cell_type": "markdown",
   "source": [
    "# Plot kdes"
   ],
   "metadata": {
    "collapsed": false
   }
  },
  {
   "cell_type": "code",
   "outputs": [],
   "source": [
    "for gse in gses:\n",
    "    \n",
    "    df_gse_w = dfs[gse]['with']\n",
    "    df_gse_wo = dfs[gse]['without']\n",
    "    \n",
    "    x_min = df_gse_w[ages].min().min()\n",
    "    x_max = df_gse_w[ages].max().max()\n",
    "    x_ptp = x_max - x_min\n",
    "    \n",
    "    y_min = df_gse_wo[ages].min().min()\n",
    "    y_max = df_gse_wo[ages].max().max()\n",
    "    y_ptp = y_max - y_min\n",
    "    \n",
    "    path_save = f\"{path_load}/harm_checking_{gse}\"\n",
    "    pathlib.Path(f\"{path_save}\").mkdir(parents=True, exist_ok=True)\n",
    "    \n",
    "    sns.set_theme(style='whitegrid')\n",
    "    fig, axs = plt.subplots(n_rows, n_cols, figsize=(fig_width, fig_height), sharey=True, gridspec_kw={'hspace': 0.075})\n",
    "    \n",
    "    for epi_est, params in ages_kde.items():\n",
    "        if epi_est == 'PC-GrimAge2':\n",
    "            axs[params['row_id'], params['col_id']].set_xlabel(params['x_label'])\n",
    "            axs[params['row_id'], params['col_id']].axis('off')\n",
    "        else:\n",
    "            kdeplot = sns.kdeplot(\n",
    "                x=df_gse_w[epi_est].values,\n",
    "                y=df_gse_wo[epi_est].values,\n",
    "                fill=True,\n",
    "                cbar=False,\n",
    "                color='red',\n",
    "                cut=0,\n",
    "                legend=False,\n",
    "                ax=axs[params['row_id'], params['col_id']]\n",
    "            )\n",
    "            regplot = sns.regplot(\n",
    "                x=df_gse_w[epi_est].values,\n",
    "                y=df_gse_wo[epi_est].values,\n",
    "                scatter=False,\n",
    "                color='black',\n",
    "                truncate=True,\n",
    "                ax=axs[params['row_id'], params['col_id']]\n",
    "            )\n",
    "            points_unity = [min(x_min - ptp_shift * x_ptp, y_min - ptp_shift * y_ptp), max(x_max + ptp_shift * x_ptp, y_max + ptp_shift * y_ptp)]\n",
    "            axs[params['row_id'], params['col_id']].plot(points_unity, points_unity, color='black', marker=None, linestyle='--', linewidth=1.0)\n",
    "            \n",
    "            corr, _ = stats.pearsonr(df_gse_w[epi_est].values, df_gse_wo[epi_est].values)\n",
    "            mae = mean_absolute_error(df_gse_w[epi_est].values, df_gse_wo[epi_est].values)\n",
    "            label = r'$\\rho$ = ' + f\"{corr:0.2f}\"\n",
    "            axs[params['row_id'], params['col_id']].annotate(\n",
    "                label,\n",
    "                xy=(0.5, 0.10),\n",
    "                size=16,\n",
    "                xycoords=axs[params['row_id'],\n",
    "                params['col_id']].transAxes,\n",
    "                ha='center',\n",
    "                color='black',\n",
    "                alpha=0.75\n",
    "            )\n",
    "            label = f\"MAE = {mae:0.2f}\"\n",
    "            axs[params['row_id'], params['col_id']].annotate(\n",
    "                label,\n",
    "                xy=(0.5, 0.02),\n",
    "                size=16,\n",
    "                xycoords=axs[params['row_id'],\n",
    "                params['col_id']].transAxes,\n",
    "                ha='center',\n",
    "                color='black',\n",
    "                alpha=0.75\n",
    "            )\n",
    "            \n",
    "            axs[params['row_id'], params['col_id']].set_xlim([x_min - ptp_shift * x_ptp, x_max + ptp_shift * x_ptp])\n",
    "            axs[params['row_id'], params['col_id']].set_ylim([y_min - ptp_shift * y_ptp, y_max + ptp_shift * y_ptp])\n",
    "            axs[params['row_id'], params['col_id']].set_title(params['title'], fontsize=18)\n",
    "            axs[params['row_id'], params['col_id']].set_ylabel(params['y_label'], fontsize=18)\n",
    "            axs[params['row_id'], params['col_id']].set_xlabel(params['x_label'])\n",
    "            if params['x_label'] == '':\n",
    "                axs[params['row_id'], params['col_id']].set_xticklabels([])\n",
    "    \n",
    "    fig.tight_layout()    \n",
    "    plt.savefig(f\"{path_save}/kde_ages.png\", bbox_inches='tight', dpi=200)\n",
    "    plt.savefig(f\"{path_save}/kde_ages.pdf\", bbox_inches='tight')\n",
    "    plt.close(fig)    "
   ],
   "metadata": {
    "collapsed": false
   },
   "execution_count": null
  }
 ],
 "metadata": {
  "kernelspec": {
   "name": "python3",
   "language": "python",
   "display_name": "Python 3 (ipykernel)"
  },
  "language_info": {
   "codemirror_mode": {
    "name": "ipython",
    "version": 2
   },
   "file_extension": ".py",
   "mimetype": "text/x-python",
   "name": "python",
   "nbconvert_exporter": "python",
   "pygments_lexer": "ipython2",
   "version": "2.7.6"
  }
 },
 "nbformat": 4,
 "nbformat_minor": 0
}
