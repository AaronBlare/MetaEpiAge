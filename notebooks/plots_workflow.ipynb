{
 "cells": [
  {
   "cell_type": "markdown",
   "source": [
    "# Debugging autoreload"
   ],
   "metadata": {
    "collapsed": false
   }
  },
  {
   "cell_type": "code",
   "execution_count": null,
   "outputs": [],
   "source": [
    "%load_ext autoreload\n",
    "%autoreload 2"
   ],
   "metadata": {
    "collapsed": false
   }
  },
  {
   "cell_type": "markdown",
   "source": [
    "# Load packages"
   ],
   "metadata": {
    "collapsed": false
   }
  },
  {
   "cell_type": "code",
   "execution_count": null,
   "outputs": [],
   "source": [
    "import os\n",
    "from tqdm import tqdm\n",
    "import glob\n",
    "import pandas as pd\n",
    "import numpy as np\n",
    "from scipy import stats\n",
    "import seaborn as sns\n",
    "import plotly.express as px\n",
    "import statsmodels.formula.api as smf\n",
    "import plotly.graph_objects as go\n",
    "from statsmodels.stats.multitest import multipletests\n",
    "import plotly.io as pio\n",
    "pio.kaleido.scope.mathjax = None\n",
    "from plotly.offline import init_notebook_mode\n",
    "from matplotlib import patheffects as pe\n",
    "import matplotlib\n",
    "import warnings\n",
    "init_notebook_mode(connected=False)\n",
    "from scipy.stats import mannwhitneyu, median_test, kruskal, wilcoxon, friedmanchisquare\n",
    "import matplotlib.pyplot as plt\n",
    "import pathlib\n",
    "from sklearn.metrics import mean_absolute_error\n",
    "from statannotations.Annotator import Annotator\n",
    "import functools\n",
    "import matplotlib.lines as mlines\n",
    "import patchworklib as pw\n",
    "import pickle\n",
    "from src.routines.plotly_layout import add_layout, color_tick\n",
    "from d3blocks import D3Blocks"
   ],
   "metadata": {
    "collapsed": false
   }
  },
  {
   "cell_type": "markdown",
   "source": [
    "# Collect data"
   ],
   "metadata": {
    "collapsed": false
   }
  },
  {
   "cell_type": "code",
   "execution_count": null,
   "outputs": [],
   "source": [
    "path = \"D:/YandexDisk/Work/pydnameth/draft/10_MetaEPIClock/MetaEpiAge\"\n",
    "df = pd.read_excel(f\"{path}/table.xlsx\", index_col=0)\n",
    "colors_gpls = {\n",
    "    'GPL13534': 'firebrick',\n",
    "    'GPL16304': 'orangered',\n",
    "    'GPL21145': 'darkorchid',\n",
    "    'GPL23976': 'orchid'\n",
    "}\n",
    "df_gpls = {}\n",
    "for gpl in colors_gpls:\n",
    "    df_gpls[gpl] = pd.read_excel(f\"{path}/figures/gpls/{gpl}.xlsx\", index_col=0)\n",
    "    \n",
    "colors_xkcd = matplotlib.colors.XKCD_COLORS\n",
    "df_colors = pd.read_excel(f\"{path}/colors.xlsx\", index_col=0)\n",
    "colors_global = {}\n",
    "for feat in df_colors.index.values:\n",
    "    colors_global[feat] = colors_xkcd[f\"xkcd:{df_colors.at[feat, 'xkcd']}\"]"
   ],
   "metadata": {
    "collapsed": false
   }
  },
  {
   "cell_type": "markdown",
   "source": [
    "# Plot samples count hist"
   ],
   "metadata": {
    "collapsed": false
   }
  },
  {
   "cell_type": "code",
   "execution_count": null,
   "outputs": [],
   "source": [
    "path_save = f\"{path}/figures/gpls/histplot\"\n",
    "pathlib.Path(f\"{path_save}\").mkdir(parents=True, exist_ok=True)\n",
    "\n",
    "hist_bins = np.linspace(0, 4000, 41)\n",
    "\n",
    "df_stat = pd.DataFrame(index=list(colors_gpls.keys()), columns=['Total', 'Processed', 'Processed %', 'Selected', 'Selected %'])\n",
    "for gpl, color in colors_gpls.items():\n",
    "    fig, ax = plt.subplots(figsize=(4, 3))\n",
    "    sns.set_theme(style='ticks')\n",
    "    histplot = sns.histplot(\n",
    "        data=df_gpls[gpl],\n",
    "        x=f\"Count\",\n",
    "        bins=hist_bins,\n",
    "        edgecolor='silver',\n",
    "        linewidth=0.5,\n",
    "        color=color,\n",
    "        ax=ax\n",
    "    )\n",
    "    ax.set_xlabel('Number of samples in GSE')\n",
    "    ax.set_ylabel('Number of GSEs')\n",
    "    ax.set_title(gpl)\n",
    "    ax.set_xlim([-15, 4000])\n",
    "    ax.patches[0].set_facecolor('gainsboro')\n",
    "    for container in ax.containers:\n",
    "        ax.bar_label(container, fmt='%d', fontsize=5, color='deepskyblue')\n",
    "    sns.despine(left=False, right=True, bottom=False, top=True)\n",
    "    plt.savefig(f\"{path_save}/{gpl}.png\", bbox_inches='tight', dpi=400)\n",
    "    plt.savefig(f\"{path_save}/{gpl}.pdf\", bbox_inches='tight')\n",
    "    plt.close(fig)\n",
    "    \n",
    "    count_total = df_gpls[gpl]['Count'].sum()\n",
    "    count_proc = df_gpls[gpl].loc[df_gpls[gpl]['Count'] >= 100, 'Count'].sum()\n",
    "    count_slctd = len(df.index[df['GPL']==gpl])\n",
    "    df_stat.at[gpl, 'Total'] = count_total\n",
    "    df_stat.at[gpl, 'Processed'] = count_proc\n",
    "    df_stat.at[gpl, 'Processed % '] = count_proc / count_total * 100\n",
    "    df_stat.at[gpl, 'Selected'] = count_slctd\n",
    "    df_stat.at[gpl, 'Selected % '] = count_slctd / count_total * 100\n",
    "\n",
    "df_stat.to_excel(f\"{path_save}/stat.xlsx\", index_label=\"GPL\")"
   ],
   "metadata": {
    "collapsed": false
   }
  },
  {
   "cell_type": "markdown",
   "source": [
    "# Plot sunburst"
   ],
   "metadata": {
    "collapsed": false
   }
  },
  {
   "cell_type": "code",
   "outputs": [],
   "source": [
    "path_save = f\"{path}/figures/gpls/sunburst\"\n",
    "pathlib.Path(f\"{path_save}\").mkdir(parents=True, exist_ok=True)\n",
    "\n",
    "for gpl, color in colors_gpls.items():\n",
    "    labels = ['Processed', 'Not processed', 'Selected', '']\n",
    "    texts = ['Processed', 'Not processed', 'Selected', '']\n",
    "    parents = ['', '', 'Processed', 'Processed']\n",
    "    values = [\n",
    "        df_gpls[gpl].loc[df_gpls[gpl]['Count'] >= 100, 'Count'].sum(),\n",
    "        df_gpls[gpl].loc[df_gpls[gpl]['Count'] < 100, 'Count'].sum(),\n",
    "        len(df.index[df['GPL']==gpl]),\n",
    "        df_gpls[gpl].loc[df_gpls[gpl]['Count'] >= 100, 'Count'].sum() - len(df.index[df['GPL']==gpl])\n",
    "    ]\n",
    "    colors = [color, 'gainsboro', color, 'white']\n",
    "    \n",
    "    df_gpl = df.loc[df['GPL']==gpl, :]\n",
    "    df_states = df_gpl['State'].value_counts().to_frame()\n",
    "    for state in df_states.index:\n",
    "        labels.append(state)\n",
    "        texts.append('')\n",
    "        parents.append('Selected')\n",
    "        values.append(df_states.at[state, 'State'])\n",
    "        colors.append(colors_global[state])\n",
    "    \n",
    "    fig = go.Figure()\n",
    "\n",
    "    fig.add_trace(\n",
    "        go.Sunburst(\n",
    "            labels=labels,\n",
    "            parents=parents,\n",
    "            values=values,\n",
    "            text=texts,\n",
    "            branchvalues=\"total\",\n",
    "            textinfo = \"text\",\n",
    "            # textfont_size=10,\n",
    "            marker=dict(\n",
    "                colors=colors,\n",
    "                line=dict(color='black', width=0.5)\n",
    "                # pattern=dict(\n",
    "                #     shape=[\"\", \"/\", \"/\", \".\", \".\", \"/\", \"/\", \".\", \"/\"], solidity=0.9\n",
    "                # )\n",
    "            ),\n",
    "        )\n",
    "    )\n",
    "    add_layout(fig, f\"\", f\"\", f\"\")\n",
    "    fig.update_layout(margin=dict(t=0, l=0, r=0, b=0))\n",
    "    fig.write_image(f\"{path_save}/{gpl}.png\", scale=2)\n",
    "    fig.write_image(f\"{path_save}/{gpl}.pdf\", format=\"pdf\")\n",
    "\n",
    "    hist_bins = np.linspace(0, 110, 12)\n",
    "    fig, ax = plt.subplots()\n",
    "    sns.set_theme(style='whitegrid')\n",
    "    histplot = sns.histplot(\n",
    "        data=df_gpl,\n",
    "        x=f\"Age\",\n",
    "        bins=hist_bins,\n",
    "        edgecolor='k',\n",
    "        linewidth=0.5,\n",
    "        hue_order=list(df_states.index),\n",
    "        hue=\"State\",\n",
    "        palette=colors_global,\n",
    "        multiple=\"stack\",\n",
    "        ax=ax\n",
    "    )\n",
    "    sns.move_legend(ax, \"upper left\", bbox_to_anchor=(1, 1))\n",
    "    plt.savefig(f\"{path_save}/{gpl}_states.png\", bbox_inches='tight', dpi=200)\n",
    "    plt.savefig(f\"{path_save}/{gpl}_states.pdf\", bbox_inches='tight')\n",
    "    plt.close(fig)"
   ],
   "metadata": {
    "collapsed": false
   },
   "execution_count": null
  },
  {
   "cell_type": "markdown",
   "source": [
    "# Plot reference dataset distribution"
   ],
   "metadata": {
    "collapsed": false
   }
  },
  {
   "cell_type": "code",
   "outputs": [],
   "source": [
    "path_save = f\"{path}/figures/ref\"\n",
    "pathlib.Path(f\"{path_save}\").mkdir(parents=True, exist_ok=True)\n",
    "\n",
    "df_ref = df.loc[df['GSE']=='GSE87571', :]\n",
    "hist_bins = np.linspace(0, 110, 23)\n",
    "fig, ax = plt.subplots(figsize=(5, 3))\n",
    "sns.set_theme(style='ticks')\n",
    "histplot = sns.histplot(\n",
    "    data=df_ref,\n",
    "    x=f\"Age\",\n",
    "    bins=hist_bins,\n",
    "    edgecolor='k',\n",
    "    linewidth=0.5,\n",
    "    color='cornflowerblue',\n",
    "    ax=ax\n",
    ")\n",
    "ax.set_title('GSE87571')\n",
    "plt.savefig(f\"{path_save}/hist_age.png\", bbox_inches='tight', dpi=200)\n",
    "plt.savefig(f\"{path_save}/hist_age.pdf\", bbox_inches='tight')\n",
    "plt.close(fig)"
   ],
   "metadata": {
    "collapsed": false
   },
   "execution_count": null
  }
 ],
 "metadata": {
  "kernelspec": {
   "name": "python3",
   "language": "python",
   "display_name": "Python 3 (ipykernel)"
  },
  "language_info": {
   "codemirror_mode": {
    "name": "ipython",
    "version": 2
   },
   "file_extension": ".py",
   "mimetype": "text/x-python",
   "name": "python",
   "nbconvert_exporter": "python",
   "pygments_lexer": "ipython2",
   "version": "2.7.6"
  }
 },
 "nbformat": 4,
 "nbformat_minor": 0
}
